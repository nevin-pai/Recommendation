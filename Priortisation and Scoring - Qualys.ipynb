{
 "cells": [
  {
   "cell_type": "code",
   "execution_count": 1185,
   "id": "6d9f241c",
   "metadata": {},
   "outputs": [],
   "source": [
    "import pandas\n",
    "import numpy\n",
    "from pyDecision.algorithm import bw_method"
   ]
  },
  {
   "cell_type": "code",
   "execution_count": 1186,
   "id": "ce7f0a8c",
   "metadata": {},
   "outputs": [],
   "source": [
    "cei_metric = pandas.read_parquet(\"Data/CEI Metric/\")\n",
    "cei_code = dict(zip(cei_metric[\"cei_code\"].unique(),[\"EOL OS\",\"Weekly\",\"Weekly\",\"Daily\"]))\n",
    "cei_metric[\"cei_code\"] = cei_metric[\"cei_code\"].apply(lambda x:cei_code[x])\n",
    "cei_data = cei_metric.fillna(\"-\").groupby([\"host_type\",\"accessibility\",\"cei_code\"])[\"cei_status\"].value_counts(normalize=True)\n",
    "cei_data = cei_data.to_frame()\n",
    "cei_data.columns = [\"failure_count\"]\n",
    "cei_data = cei_data.reset_index()\n",
    "cei_data = cei_data[cei_data[\"cei_status\"] == \"Failed\"]\n",
    "cei_data[\"host_type\"] = cei_data[\"host_type\"].str.replace(\"Server\",\"Servers\")"
   ]
  },
  {
   "cell_type": "code",
   "execution_count": 1187,
   "id": "ffdac6ac",
   "metadata": {},
   "outputs": [],
   "source": [
    "cei_failures = cei_data.set_index([\"host_type\",\"accessibility\",\"cei_code\"])[\"failure_count\"].unstack().fillna(0).reset_index()"
   ]
  },
  {
   "cell_type": "code",
   "execution_count": 1188,
   "id": "2c1c4f00",
   "metadata": {},
   "outputs": [],
   "source": [
    "cei_failures[\"Fortnightly\"] = 0.0"
   ]
  },
  {
   "cell_type": "code",
   "execution_count": 1189,
   "id": "a6256d0e",
   "metadata": {},
   "outputs": [],
   "source": [
    "cei_failures[\"asset_class\"] = cei_failures.fillna(\"-\").apply(lambda row: row[\"host_type\"] + \"_\" + row[\"accessibility\"],axis=1).str.replace(\"_-\",\"\")"
   ]
  },
  {
   "cell_type": "code",
   "execution_count": 1190,
   "id": "520fb17a",
   "metadata": {},
   "outputs": [],
   "source": [
    "cei_failures = cei_failures.drop([\"host_type\",\"accessibility\"],axis=1).set_index(\"asset_class\")"
   ]
  },
  {
   "cell_type": "code",
   "execution_count": 1191,
   "id": "ef0cb909",
   "metadata": {},
   "outputs": [],
   "source": [
    "risk = pandas.read_csv(\"Data/Risk Matrix.csv\")"
   ]
  },
  {
   "cell_type": "code",
   "execution_count": 1192,
   "id": "e98229d4",
   "metadata": {},
   "outputs": [],
   "source": [
    "risk[\"asset_class\"] = risk.apply(lambda row: row[\"host_type\"] + \"_\" + row[\"accessibility\"],axis=1).str.replace(\"_-\",\"\")"
   ]
  },
  {
   "cell_type": "code",
   "execution_count": 1193,
   "id": "68a99884",
   "metadata": {},
   "outputs": [],
   "source": [
    "risk = risk.drop([\"host_type\",\"accessibility\"],axis=1).set_index(\"asset_class\")"
   ]
  },
  {
   "cell_type": "code",
   "execution_count": 1194,
   "id": "38da1345",
   "metadata": {},
   "outputs": [],
   "source": [
    "risk_effective = cei_failures*risk"
   ]
  },
  {
   "cell_type": "code",
   "execution_count": 1195,
   "id": "784399a5",
   "metadata": {},
   "outputs": [],
   "source": [
    "#risk.to_csv(\"risk_matrix.csv\")"
   ]
  },
  {
   "cell_type": "code",
   "execution_count": 1196,
   "id": "31c69446",
   "metadata": {},
   "outputs": [],
   "source": [
    "risk_values = risk_effective.values"
   ]
  },
  {
   "cell_type": "code",
   "execution_count": 1197,
   "id": "c77fb051",
   "metadata": {},
   "outputs": [
    {
     "data": {
      "text/html": [
       "<div>\n",
       "<style scoped>\n",
       "    .dataframe tbody tr th:only-of-type {\n",
       "        vertical-align: middle;\n",
       "    }\n",
       "\n",
       "    .dataframe tbody tr th {\n",
       "        vertical-align: top;\n",
       "    }\n",
       "\n",
       "    .dataframe thead th {\n",
       "        text-align: right;\n",
       "    }\n",
       "</style>\n",
       "<table border=\"1\" class=\"dataframe\">\n",
       "  <thead>\n",
       "    <tr style=\"text-align: right;\">\n",
       "      <th></th>\n",
       "      <th>Fortnightly</th>\n",
       "      <th>Weekly</th>\n",
       "      <th>Daily</th>\n",
       "      <th>EOL OS</th>\n",
       "    </tr>\n",
       "    <tr>\n",
       "      <th>asset_class</th>\n",
       "      <th></th>\n",
       "      <th></th>\n",
       "      <th></th>\n",
       "      <th></th>\n",
       "    </tr>\n",
       "  </thead>\n",
       "  <tbody>\n",
       "    <tr>\n",
       "      <th>Servers_External</th>\n",
       "      <td>16</td>\n",
       "      <td>12</td>\n",
       "      <td>8</td>\n",
       "      <td>20</td>\n",
       "    </tr>\n",
       "    <tr>\n",
       "      <th>Servers_Internal</th>\n",
       "      <td>12</td>\n",
       "      <td>9</td>\n",
       "      <td>6</td>\n",
       "      <td>15</td>\n",
       "    </tr>\n",
       "    <tr>\n",
       "      <th>Workstation</th>\n",
       "      <td>12</td>\n",
       "      <td>9</td>\n",
       "      <td>6</td>\n",
       "      <td>15</td>\n",
       "    </tr>\n",
       "  </tbody>\n",
       "</table>\n",
       "</div>"
      ],
      "text/plain": [
       "                  Fortnightly  Weekly  Daily  EOL OS\n",
       "asset_class                                         \n",
       "Servers_External           16      12      8      20\n",
       "Servers_Internal           12       9      6      15\n",
       "Workstation                12       9      6      15"
      ]
     },
     "execution_count": 1197,
     "metadata": {},
     "output_type": "execute_result"
    }
   ],
   "source": [
    "risk"
   ]
  },
  {
   "cell_type": "code",
   "execution_count": 1198,
   "id": "6119e6c9",
   "metadata": {},
   "outputs": [],
   "source": [
    "mic = numpy.array([7,7,9,1])\n",
    "lic = numpy.array([7,7,1,9])"
   ]
  },
  {
   "cell_type": "code",
   "execution_count": 1199,
   "id": "8523b39b",
   "metadata": {},
   "outputs": [
    {
     "name": "stdout",
     "output_type": "stream",
     "text": [
      "Iteration =  0  f(x) =  inf\n",
      "Iteration =  1  f(x) =  1.968133978645697\n",
      "Iteration =  2  f(x) =  1.968133978645697\n",
      "Iteration =  3  f(x) =  1.1876711748364919\n",
      "Iteration =  4  f(x) =  0.7763010033719102\n",
      "Iteration =  5  f(x) =  0.21384215561081849\n",
      "Iteration =  6  f(x) =  0.1051244481635259\n",
      "Iteration =  7  f(x) =  0.05854546886882356\n",
      "Iteration =  8  f(x) =  0.05854546886882356\n",
      "Iteration =  9  f(x) =  0.05854546886882356\n",
      "Iteration =  10  f(x) =  0.05854546886882356\n",
      "Iteration =  11  f(x) =  0.05854546886882356\n",
      "Iteration =  12  f(x) =  0.05854546886882356\n",
      "Iteration =  13  f(x) =  0.0447217602671246\n",
      "Iteration =  14  f(x) =  0.0447217602671246\n",
      "Iteration =  15  f(x) =  0.04460327232771244\n",
      "Iteration =  16  f(x) =  0.04460327232771244\n",
      "Iteration =  17  f(x) =  0.04460327232771244\n",
      "Iteration =  18  f(x) =  0.04460327232771244\n",
      "Iteration =  19  f(x) =  0.04460327232771244\n",
      "Iteration =  20  f(x) =  0.04460327232771244\n",
      "Iteration =  21  f(x) =  0.04460327232771244\n",
      "Iteration =  22  f(x) =  0.04460327232771244\n",
      "Iteration =  23  f(x) =  0.02045130218270036\n",
      "Iteration =  24  f(x) =  0.02045130218270036\n",
      "Iteration =  25  f(x) =  0.02045130218270036\n",
      "Iteration =  26  f(x) =  0.02045130218270036\n",
      "Iteration =  27  f(x) =  0.02045130218270036\n",
      "Iteration =  28  f(x) =  0.02045130218270036\n",
      "Iteration =  29  f(x) =  0.02045130218270036\n",
      "Iteration =  30  f(x) =  0.02045130218270036\n",
      "Iteration =  31  f(x) =  0.02045130218270036\n",
      "Iteration =  32  f(x) =  0.02045130218270036\n",
      "Iteration =  33  f(x) =  0.02045130218270036\n",
      "Iteration =  34  f(x) =  0.02045130218270036\n",
      "Iteration =  35  f(x) =  0.02045130218270036\n",
      "Iteration =  36  f(x) =  0.02045130218270036\n",
      "Iteration =  37  f(x) =  0.02045130218270036\n",
      "Iteration =  38  f(x) =  0.02045130218270036\n",
      "Iteration =  39  f(x) =  0.02045130218270036\n",
      "Iteration =  40  f(x) =  0.02045130218270036\n",
      "Iteration =  41  f(x) =  0.02045130218270036\n",
      "Iteration =  42  f(x) =  0.02045130218270036\n",
      "Iteration =  43  f(x) =  0.02045130218270036\n",
      "Iteration =  44  f(x) =  0.02045130218270036\n",
      "Iteration =  45  f(x) =  0.02045130218270036\n",
      "Iteration =  46  f(x) =  0.02045130218270036\n",
      "Iteration =  47  f(x) =  0.02045130218270036\n",
      "Iteration =  48  f(x) =  0.02045130218270036\n",
      "Iteration =  49  f(x) =  0.02045130218270036\n",
      "Iteration =  50  f(x) =  0.02045130218270036\n",
      "Iteration =  51  f(x) =  0.02045130218270036\n",
      "Iteration =  52  f(x) =  0.02045130218270036\n",
      "Iteration =  53  f(x) =  0.02045130218270036\n",
      "Iteration =  54  f(x) =  0.02045130218270036\n",
      "Iteration =  55  f(x) =  0.02045130218270036\n",
      "Iteration =  56  f(x) =  0.02045130218270036\n",
      "Iteration =  57  f(x) =  0.02045130218270036\n",
      "Iteration =  58  f(x) =  0.02045130218270036\n",
      "Iteration =  59  f(x) =  0.02045130218270036\n",
      "Iteration =  60  f(x) =  0.02045130218270036\n",
      "Iteration =  61  f(x) =  0.02045130218270036\n",
      "Iteration =  62  f(x) =  0.02045130218270036\n",
      "Iteration =  63  f(x) =  0.02045130218270036\n",
      "Iteration =  64  f(x) =  0.02045130218270036\n",
      "Iteration =  65  f(x) =  0.02045130218270036\n",
      "Iteration =  66  f(x) =  0.02045130218270036\n",
      "Iteration =  67  f(x) =  0.02045130218270036\n",
      "Iteration =  68  f(x) =  0.02045130218270036\n",
      "Iteration =  69  f(x) =  0.02045130218270036\n",
      "Iteration =  70  f(x) =  0.01779923487897541\n",
      "Iteration =  71  f(x) =  0.01779923487897541\n",
      "Iteration =  72  f(x) =  0.01779923487897541\n",
      "Iteration =  73  f(x) =  0.016639766560851643\n",
      "Iteration =  74  f(x) =  0.016639766560851643\n",
      "Iteration =  75  f(x) =  0.016639766560851643\n",
      "Iteration =  76  f(x) =  0.016639766560851643\n",
      "Iteration =  77  f(x) =  0.016639766560851643\n",
      "Iteration =  78  f(x) =  0.016639766560851643\n",
      "Iteration =  79  f(x) =  0.016639766560851643\n",
      "Iteration =  80  f(x) =  0.016639766560851643\n",
      "Iteration =  81  f(x) =  0.016639766560851643\n",
      "Iteration =  82  f(x) =  0.016639766560851643\n",
      "Iteration =  83  f(x) =  0.016639766560851643\n",
      "Iteration =  84  f(x) =  0.014160909934307693\n",
      "Iteration =  85  f(x) =  0.014160909934307693\n",
      "Iteration =  86  f(x) =  0.014160909934307693\n",
      "Iteration =  87  f(x) =  0.014160909934307693\n",
      "Iteration =  88  f(x) =  0.014160909934307693\n",
      "Iteration =  89  f(x) =  0.014160909934307693\n",
      "Iteration =  90  f(x) =  0.014160909934307693\n",
      "Iteration =  91  f(x) =  0.014160909934307693\n",
      "Iteration =  92  f(x) =  0.014160909934307693\n",
      "Iteration =  93  f(x) =  0.014160909934307693\n",
      "Iteration =  94  f(x) =  0.014160909934307693\n",
      "Iteration =  95  f(x) =  0.014160909934307693\n",
      "Iteration =  96  f(x) =  0.014160909934307693\n",
      "Iteration =  97  f(x) =  0.014160909934307693\n",
      "Iteration =  98  f(x) =  0.01402604316658393\n",
      "Iteration =  99  f(x) =  0.013628158301224609\n",
      "Iteration =  100  f(x) =  0.013363777893214815\n"
     ]
    }
   ],
   "source": [
    "weights =  bw_method(risk_values, mic, lic, size = 15, iterations = 100)"
   ]
  },
  {
   "cell_type": "code",
   "execution_count": 21,
   "id": "0a2df424",
   "metadata": {},
   "outputs": [],
   "source": [
    "cei_severity = pandas.DataFrame([1,4,4,2,3],index=[\"CEI 1.0\",\"CEI 1.1\",\"CEI 1.2\",\"CEI 1.3\",\"CEI 1.4\"],columns=[\"CEI Severity\"])"
   ]
  },
  {
   "cell_type": "code",
   "execution_count": 23,
   "id": "26fa8396",
   "metadata": {},
   "outputs": [
    {
     "data": {
      "text/html": [
       "<div>\n",
       "<style scoped>\n",
       "    .dataframe tbody tr th:only-of-type {\n",
       "        vertical-align: middle;\n",
       "    }\n",
       "\n",
       "    .dataframe tbody tr th {\n",
       "        vertical-align: top;\n",
       "    }\n",
       "\n",
       "    .dataframe thead th {\n",
       "        text-align: right;\n",
       "    }\n",
       "</style>\n",
       "<table border=\"1\" class=\"dataframe\">\n",
       "  <thead>\n",
       "    <tr style=\"text-align: right;\">\n",
       "      <th></th>\n",
       "      <th>CEI 1.0</th>\n",
       "      <th>CEI 1.1</th>\n",
       "      <th>CEI 1.2</th>\n",
       "      <th>CEI 1.3</th>\n",
       "      <th>CEI 1.4</th>\n",
       "    </tr>\n",
       "  </thead>\n",
       "  <tbody>\n",
       "    <tr>\n",
       "      <th>CEI Severity</th>\n",
       "      <td>1</td>\n",
       "      <td>4</td>\n",
       "      <td>4</td>\n",
       "      <td>2</td>\n",
       "      <td>3</td>\n",
       "    </tr>\n",
       "  </tbody>\n",
       "</table>\n",
       "</div>"
      ],
      "text/plain": [
       "              CEI 1.0  CEI 1.1  CEI 1.2  CEI 1.3  CEI 1.4\n",
       "CEI Severity        1        4        4        2        3"
      ]
     },
     "execution_count": 23,
     "metadata": {},
     "output_type": "execute_result"
    }
   ],
   "source": [
    "cei_severity.T"
   ]
  },
  {
   "cell_type": "code",
   "execution_count": 50,
   "id": "04ce7420",
   "metadata": {},
   "outputs": [],
   "source": [
    "object_severity = pandas.DataFrame([4,2,2],index=[\"External Server\",\"Workstation\",\"Internal Server\"])"
   ]
  },
  {
   "cell_type": "code",
   "execution_count": 55,
   "id": "a1327bc9",
   "metadata": {},
   "outputs": [
    {
     "data": {
      "text/plain": [
       "Index(['External Server', 'Workstation', 'Internal Server'], dtype='object')"
      ]
     },
     "execution_count": 55,
     "metadata": {},
     "output_type": "execute_result"
    }
   ],
   "source": [
    "object_severity.index"
   ]
  },
  {
   "cell_type": "code",
   "execution_count": 56,
   "id": "931622e5",
   "metadata": {},
   "outputs": [
    {
     "data": {
      "text/html": [
       "<div>\n",
       "<style scoped>\n",
       "    .dataframe tbody tr th:only-of-type {\n",
       "        vertical-align: middle;\n",
       "    }\n",
       "\n",
       "    .dataframe tbody tr th {\n",
       "        vertical-align: top;\n",
       "    }\n",
       "\n",
       "    .dataframe thead th {\n",
       "        text-align: right;\n",
       "    }\n",
       "</style>\n",
       "<table border=\"1\" class=\"dataframe\">\n",
       "  <thead>\n",
       "    <tr style=\"text-align: right;\">\n",
       "      <th></th>\n",
       "      <th>CEI 1.0</th>\n",
       "      <th>CEI 1.1</th>\n",
       "      <th>CEI 1.2</th>\n",
       "      <th>CEI 1.3</th>\n",
       "      <th>CEI 1.4</th>\n",
       "    </tr>\n",
       "  </thead>\n",
       "  <tbody>\n",
       "    <tr>\n",
       "      <th>External Server</th>\n",
       "      <td>4</td>\n",
       "      <td>16</td>\n",
       "      <td>16</td>\n",
       "      <td>8</td>\n",
       "      <td>12</td>\n",
       "    </tr>\n",
       "    <tr>\n",
       "      <th>Workstation</th>\n",
       "      <td>2</td>\n",
       "      <td>8</td>\n",
       "      <td>8</td>\n",
       "      <td>4</td>\n",
       "      <td>6</td>\n",
       "    </tr>\n",
       "    <tr>\n",
       "      <th>Internal Server</th>\n",
       "      <td>2</td>\n",
       "      <td>8</td>\n",
       "      <td>8</td>\n",
       "      <td>4</td>\n",
       "      <td>6</td>\n",
       "    </tr>\n",
       "  </tbody>\n",
       "</table>\n",
       "</div>"
      ],
      "text/plain": [
       "                 CEI 1.0  CEI 1.1  CEI 1.2  CEI 1.3  CEI 1.4\n",
       "External Server        4       16       16        8       12\n",
       "Workstation            2        8        8        4        6\n",
       "Internal Server        2        8        8        4        6"
      ]
     },
     "execution_count": 56,
     "metadata": {},
     "output_type": "execute_result"
    }
   ],
   "source": [
    "pandas.DataFrame(cei_severity.T.values * object_severity.values,columns=cei_severity.index,index=object_severity.index)"
   ]
  },
  {
   "cell_type": "code",
   "execution_count": 79,
   "id": "ffeb1059",
   "metadata": {},
   "outputs": [
    {
     "data": {
      "text/plain": [
       "array([1., 4., 4., 2., 3.])"
      ]
     },
     "execution_count": 79,
     "metadata": {},
     "output_type": "execute_result"
    }
   ],
   "source": [
    "cei_severity[\"CEI Severity\"].rank(method=\"dense\").values"
   ]
  },
  {
   "cell_type": "code",
   "execution_count": 81,
   "id": "7e6e83d8",
   "metadata": {},
   "outputs": [
    {
     "data": {
      "text/plain": [
       "array([4., 1., 1., 3., 2.])"
      ]
     },
     "execution_count": 81,
     "metadata": {},
     "output_type": "execute_result"
    }
   ],
   "source": [
    "cei_severity[\"CEI Severity\"].rank(method=\"dense\",ascending=False).values"
   ]
  },
  {
   "cell_type": "code",
   "execution_count": 18,
   "id": "c9456013",
   "metadata": {},
   "outputs": [],
   "source": [
    "import numpy,scipy,pandas"
   ]
  },
  {
   "cell_type": "code",
   "execution_count": 4,
   "id": "1eca10b2",
   "metadata": {},
   "outputs": [],
   "source": [
    "from scipy.stats import rankdata"
   ]
  },
  {
   "cell_type": "code",
   "execution_count": 16,
   "id": "0391f86a",
   "metadata": {},
   "outputs": [
    {
     "data": {
      "text/plain": [
       "array([1, 4, 5, 2, 3])"
      ]
     },
     "execution_count": 16,
     "metadata": {},
     "output_type": "execute_result"
    }
   ],
   "source": [
    "numpy.argsort(cei_severity) + 1"
   ]
  },
  {
   "cell_type": "code",
   "execution_count": 1200,
   "id": "0b2c4c2e",
   "metadata": {},
   "outputs": [
    {
     "data": {
      "text/plain": [
       "array([0.1005108 , 0.10078584, 0.08152843, 0.71717493])"
      ]
     },
     "execution_count": 1200,
     "metadata": {},
     "output_type": "execute_result"
    }
   ],
   "source": [
    "weights"
   ]
  },
  {
   "cell_type": "code",
   "execution_count": 1201,
   "id": "b493704a",
   "metadata": {},
   "outputs": [],
   "source": [
    "weights_scaled = numpy.round(weights,decimals=1)"
   ]
  },
  {
   "cell_type": "code",
   "execution_count": 1202,
   "id": "9cb4e6b0",
   "metadata": {},
   "outputs": [
    {
     "data": {
      "text/plain": [
       "1.0"
      ]
     },
     "execution_count": 1202,
     "metadata": {},
     "output_type": "execute_result"
    }
   ],
   "source": [
    "sum(weights_scaled)"
   ]
  },
  {
   "cell_type": "markdown",
   "id": "6ca41bd5",
   "metadata": {},
   "source": [
    "# TOPSIS"
   ]
  },
  {
   "cell_type": "code",
   "execution_count": 1203,
   "id": "05b7b0b8",
   "metadata": {},
   "outputs": [],
   "source": [
    "from sklearn import preprocessing\n",
    "min_max_scaler = preprocessing.MinMaxScaler()\n",
    "risk_scaled = min_max_scaler.fit_transform(risk_values)"
   ]
  },
  {
   "cell_type": "code",
   "execution_count": 1204,
   "id": "068e9492",
   "metadata": {},
   "outputs": [],
   "source": [
    "import mcdm\n",
    "x_benefit = [True,True,True,True]\n",
    "priority_rank = mcdm.rank(risk_scaled, w_vector=weights_scaled, s_method=\"TOPSIS\",is_benefit_x = x_benefit)"
   ]
  },
  {
   "cell_type": "code",
   "execution_count": 1205,
   "id": "06c0b5bd",
   "metadata": {},
   "outputs": [
    {
     "data": {
      "text/plain": [
       "[('a2', 0.8319256396465603),\n",
       " ('a3', 0.46699293399353087),\n",
       " ('a1', 0.12389934309929543)]"
      ]
     },
     "execution_count": 1205,
     "metadata": {},
     "output_type": "execute_result"
    }
   ],
   "source": [
    "priority_rank"
   ]
  },
  {
   "cell_type": "code",
   "execution_count": 1206,
   "id": "6a00cba4",
   "metadata": {},
   "outputs": [
    {
     "data": {
      "text/plain": [
       "array([0.1005108 , 0.10078584, 0.08152843, 0.71717493])"
      ]
     },
     "execution_count": 1206,
     "metadata": {},
     "output_type": "execute_result"
    }
   ],
   "source": [
    "weights"
   ]
  },
  {
   "cell_type": "code",
   "execution_count": 1232,
   "id": "d941746a",
   "metadata": {},
   "outputs": [],
   "source": [
    "temp =[]\n",
    "for i in range(0, len(priority_rank)):\n",
    "    for j in range(0, len(weights)):\n",
    "        temp.append(1/(-numpy.log10((priority_rank[i][1])*weights[j])))"
   ]
  },
  {
   "cell_type": "code",
   "execution_count": 1233,
   "id": "f7c58adf",
   "metadata": {
    "scrolled": true
   },
   "outputs": [
    {
     "data": {
      "text/plain": [
       "Index(['Servers_External', 'Servers_Internal', 'Workstation'], dtype='object', name='asset_class')"
      ]
     },
     "execution_count": 1233,
     "metadata": {},
     "output_type": "execute_result"
    }
   ],
   "source": [
    "risk.index"
   ]
  },
  {
   "cell_type": "code",
   "execution_count": 1234,
   "id": "1849227c",
   "metadata": {},
   "outputs": [],
   "source": [
    "criteria_names = risk.columns\n",
    "alternative_names = risk.index"
   ]
  },
  {
   "cell_type": "code",
   "execution_count": 1235,
   "id": "8991c192",
   "metadata": {},
   "outputs": [],
   "source": [
    "temp2=[]\n",
    "for i in range(0, len(alternative_names)):\n",
    "    for j in range(0, len(criteria_names)):\n",
    "        temp2.append(alternative_names[i] + \":\" + criteria_names[j])"
   ]
  },
  {
   "cell_type": "code",
   "execution_count": 1236,
   "id": "4fec0167",
   "metadata": {},
   "outputs": [],
   "source": [
    "list_zip = zip(temp2, temp)\n",
    "zipped_list = list(list_zip)"
   ]
  },
  {
   "cell_type": "code",
   "execution_count": 1237,
   "id": "2d4eca9b",
   "metadata": {},
   "outputs": [],
   "source": [
    "sorted_priority = sorted(zipped_list, key=lambda x: x[1], reverse=True )"
   ]
  },
  {
   "cell_type": "code",
   "execution_count": 1238,
   "id": "ef04ee0f",
   "metadata": {},
   "outputs": [],
   "source": [
    "sorted_priority = dict(sorted_priority)"
   ]
  },
  {
   "cell_type": "code",
   "execution_count": 1239,
   "id": "5e63db0b",
   "metadata": {},
   "outputs": [
    {
     "data": {
      "text/html": [
       "<div>\n",
       "<style scoped>\n",
       "    .dataframe tbody tr th:only-of-type {\n",
       "        vertical-align: middle;\n",
       "    }\n",
       "\n",
       "    .dataframe tbody tr th {\n",
       "        vertical-align: top;\n",
       "    }\n",
       "\n",
       "    .dataframe thead th {\n",
       "        text-align: right;\n",
       "    }\n",
       "</style>\n",
       "<table border=\"1\" class=\"dataframe\">\n",
       "  <thead>\n",
       "    <tr style=\"text-align: right;\">\n",
       "      <th></th>\n",
       "      <th>Fortnightly</th>\n",
       "      <th>Weekly</th>\n",
       "      <th>Daily</th>\n",
       "      <th>EOL OS</th>\n",
       "    </tr>\n",
       "    <tr>\n",
       "      <th>asset_class</th>\n",
       "      <th></th>\n",
       "      <th></th>\n",
       "      <th></th>\n",
       "      <th></th>\n",
       "    </tr>\n",
       "  </thead>\n",
       "  <tbody>\n",
       "    <tr>\n",
       "      <th>Servers_External</th>\n",
       "      <td>16</td>\n",
       "      <td>12</td>\n",
       "      <td>8</td>\n",
       "      <td>20</td>\n",
       "    </tr>\n",
       "    <tr>\n",
       "      <th>Servers_Internal</th>\n",
       "      <td>12</td>\n",
       "      <td>9</td>\n",
       "      <td>6</td>\n",
       "      <td>15</td>\n",
       "    </tr>\n",
       "    <tr>\n",
       "      <th>Workstation</th>\n",
       "      <td>12</td>\n",
       "      <td>9</td>\n",
       "      <td>6</td>\n",
       "      <td>15</td>\n",
       "    </tr>\n",
       "  </tbody>\n",
       "</table>\n",
       "</div>"
      ],
      "text/plain": [
       "                  Fortnightly  Weekly  Daily  EOL OS\n",
       "asset_class                                         \n",
       "Servers_External           16      12      8      20\n",
       "Servers_Internal           12       9      6      15\n",
       "Workstation                12       9      6      15"
      ]
     },
     "execution_count": 1239,
     "metadata": {},
     "output_type": "execute_result"
    }
   ],
   "source": [
    "risk"
   ]
  },
  {
   "cell_type": "code",
   "execution_count": 1240,
   "id": "6fa482bb",
   "metadata": {},
   "outputs": [],
   "source": [
    "priority_df = pandas.DataFrame.from_dict(sorted_priority.items())"
   ]
  },
  {
   "cell_type": "code",
   "execution_count": 1241,
   "id": "848766e2",
   "metadata": {},
   "outputs": [],
   "source": [
    "priority_df.columns = [\"asset_type_cei\",\"priority_score\"]"
   ]
  },
  {
   "cell_type": "code",
   "execution_count": 1242,
   "id": "959ffa90",
   "metadata": {},
   "outputs": [
    {
     "data": {
      "text/html": [
       "<div>\n",
       "<style scoped>\n",
       "    .dataframe tbody tr th:only-of-type {\n",
       "        vertical-align: middle;\n",
       "    }\n",
       "\n",
       "    .dataframe tbody tr th {\n",
       "        vertical-align: top;\n",
       "    }\n",
       "\n",
       "    .dataframe thead th {\n",
       "        text-align: right;\n",
       "    }\n",
       "</style>\n",
       "<table border=\"1\" class=\"dataframe\">\n",
       "  <thead>\n",
       "    <tr style=\"text-align: right;\">\n",
       "      <th></th>\n",
       "      <th>asset_type_cei</th>\n",
       "      <th>priority_score</th>\n",
       "    </tr>\n",
       "  </thead>\n",
       "  <tbody>\n",
       "    <tr>\n",
       "      <th>0</th>\n",
       "      <td>Servers_External:EOL OS</td>\n",
       "      <td>4.458506</td>\n",
       "    </tr>\n",
       "    <tr>\n",
       "      <th>1</th>\n",
       "      <td>Servers_Internal:EOL OS</td>\n",
       "      <td>2.104977</td>\n",
       "    </tr>\n",
       "    <tr>\n",
       "      <th>2</th>\n",
       "      <td>Workstation:EOL OS</td>\n",
       "      <td>0.951198</td>\n",
       "    </tr>\n",
       "    <tr>\n",
       "      <th>3</th>\n",
       "      <td>Servers_External:Weekly</td>\n",
       "      <td>0.928923</td>\n",
       "    </tr>\n",
       "    <tr>\n",
       "      <th>4</th>\n",
       "      <td>Servers_External:Fortnightly</td>\n",
       "      <td>0.927900</td>\n",
       "    </tr>\n",
       "    <tr>\n",
       "      <th>5</th>\n",
       "      <td>Servers_External:Daily</td>\n",
       "      <td>0.855720</td>\n",
       "    </tr>\n",
       "    <tr>\n",
       "      <th>6</th>\n",
       "      <td>Servers_Internal:Weekly</td>\n",
       "      <td>0.753415</td>\n",
       "    </tr>\n",
       "    <tr>\n",
       "      <th>7</th>\n",
       "      <td>Servers_Internal:Fortnightly</td>\n",
       "      <td>0.752742</td>\n",
       "    </tr>\n",
       "    <tr>\n",
       "      <th>8</th>\n",
       "      <td>Servers_Internal:Daily</td>\n",
       "      <td>0.704533</td>\n",
       "    </tr>\n",
       "    <tr>\n",
       "      <th>9</th>\n",
       "      <td>Workstation:Weekly</td>\n",
       "      <td>0.525339</td>\n",
       "    </tr>\n",
       "    <tr>\n",
       "      <th>10</th>\n",
       "      <td>Workstation:Fortnightly</td>\n",
       "      <td>0.525012</td>\n",
       "    </tr>\n",
       "    <tr>\n",
       "      <th>11</th>\n",
       "      <td>Workstation:Daily</td>\n",
       "      <td>0.501097</td>\n",
       "    </tr>\n",
       "  </tbody>\n",
       "</table>\n",
       "</div>"
      ],
      "text/plain": [
       "                  asset_type_cei  priority_score\n",
       "0        Servers_External:EOL OS        4.458506\n",
       "1        Servers_Internal:EOL OS        2.104977\n",
       "2             Workstation:EOL OS        0.951198\n",
       "3        Servers_External:Weekly        0.928923\n",
       "4   Servers_External:Fortnightly        0.927900\n",
       "5         Servers_External:Daily        0.855720\n",
       "6        Servers_Internal:Weekly        0.753415\n",
       "7   Servers_Internal:Fortnightly        0.752742\n",
       "8         Servers_Internal:Daily        0.704533\n",
       "9             Workstation:Weekly        0.525339\n",
       "10       Workstation:Fortnightly        0.525012\n",
       "11             Workstation:Daily        0.501097"
      ]
     },
     "execution_count": 1242,
     "metadata": {},
     "output_type": "execute_result"
    }
   ],
   "source": [
    "priority_df"
   ]
  },
  {
   "cell_type": "code",
   "execution_count": 1243,
   "id": "f72e17aa",
   "metadata": {},
   "outputs": [],
   "source": [
    "priority_df[[\"asset_type\",\"CEI\"]] = priority_df[\"asset_type_cei\"].apply(lambda x: pandas.Series(x.split(\":\")))"
   ]
  },
  {
   "cell_type": "code",
   "execution_count": 1244,
   "id": "ba12d3cc",
   "metadata": {},
   "outputs": [],
   "source": [
    "priority_df[[\"host_type\",\"accessibility\"]] = priority_df[\"asset_type\"].apply(lambda x: pandas.Series(x.split(\"_\")))"
   ]
  },
  {
   "cell_type": "code",
   "execution_count": 1245,
   "id": "de5880cb",
   "metadata": {},
   "outputs": [],
   "source": [
    "priority_df = priority_df[[\"host_type\",\"accessibility\",\"CEI\",\"priority_score\"]]"
   ]
  },
  {
   "cell_type": "code",
   "execution_count": 1246,
   "id": "6f1b9533",
   "metadata": {},
   "outputs": [
    {
     "name": "stderr",
     "output_type": "stream",
     "text": [
      "/tmp/ipykernel_15235/3801765073.py:1: SettingWithCopyWarning: \n",
      "A value is trying to be set on a copy of a slice from a DataFrame.\n",
      "Try using .loc[row_indexer,col_indexer] = value instead\n",
      "\n",
      "See the caveats in the documentation: https://pandas.pydata.org/pandas-docs/stable/user_guide/indexing.html#returning-a-view-versus-a-copy\n",
      "  priority_df[\"priority_rank\"] = priority_df[\"priority_score\"].rank(ascending=False,method=\"min\")\n"
     ]
    }
   ],
   "source": [
    "priority_df[\"priority_rank\"] = priority_df[\"priority_score\"].rank(ascending=False,method=\"min\")"
   ]
  },
  {
   "cell_type": "code",
   "execution_count": 1247,
   "id": "1998b400",
   "metadata": {},
   "outputs": [
    {
     "data": {
      "text/html": [
       "<div>\n",
       "<style scoped>\n",
       "    .dataframe tbody tr th:only-of-type {\n",
       "        vertical-align: middle;\n",
       "    }\n",
       "\n",
       "    .dataframe tbody tr th {\n",
       "        vertical-align: top;\n",
       "    }\n",
       "\n",
       "    .dataframe thead th {\n",
       "        text-align: right;\n",
       "    }\n",
       "</style>\n",
       "<table border=\"1\" class=\"dataframe\">\n",
       "  <thead>\n",
       "    <tr style=\"text-align: right;\">\n",
       "      <th></th>\n",
       "      <th>host_type</th>\n",
       "      <th>accessibility</th>\n",
       "      <th>CEI</th>\n",
       "      <th>priority_score</th>\n",
       "      <th>priority_rank</th>\n",
       "    </tr>\n",
       "  </thead>\n",
       "  <tbody>\n",
       "    <tr>\n",
       "      <th>0</th>\n",
       "      <td>Servers</td>\n",
       "      <td>External</td>\n",
       "      <td>EOL OS</td>\n",
       "      <td>4.458506</td>\n",
       "      <td>1.0</td>\n",
       "    </tr>\n",
       "    <tr>\n",
       "      <th>1</th>\n",
       "      <td>Servers</td>\n",
       "      <td>Internal</td>\n",
       "      <td>EOL OS</td>\n",
       "      <td>2.104977</td>\n",
       "      <td>2.0</td>\n",
       "    </tr>\n",
       "    <tr>\n",
       "      <th>2</th>\n",
       "      <td>Workstation</td>\n",
       "      <td>NaN</td>\n",
       "      <td>EOL OS</td>\n",
       "      <td>0.951198</td>\n",
       "      <td>3.0</td>\n",
       "    </tr>\n",
       "    <tr>\n",
       "      <th>3</th>\n",
       "      <td>Servers</td>\n",
       "      <td>External</td>\n",
       "      <td>Weekly</td>\n",
       "      <td>0.928923</td>\n",
       "      <td>4.0</td>\n",
       "    </tr>\n",
       "    <tr>\n",
       "      <th>4</th>\n",
       "      <td>Servers</td>\n",
       "      <td>External</td>\n",
       "      <td>Fortnightly</td>\n",
       "      <td>0.927900</td>\n",
       "      <td>5.0</td>\n",
       "    </tr>\n",
       "    <tr>\n",
       "      <th>5</th>\n",
       "      <td>Servers</td>\n",
       "      <td>External</td>\n",
       "      <td>Daily</td>\n",
       "      <td>0.855720</td>\n",
       "      <td>6.0</td>\n",
       "    </tr>\n",
       "    <tr>\n",
       "      <th>6</th>\n",
       "      <td>Servers</td>\n",
       "      <td>Internal</td>\n",
       "      <td>Weekly</td>\n",
       "      <td>0.753415</td>\n",
       "      <td>7.0</td>\n",
       "    </tr>\n",
       "    <tr>\n",
       "      <th>7</th>\n",
       "      <td>Servers</td>\n",
       "      <td>Internal</td>\n",
       "      <td>Fortnightly</td>\n",
       "      <td>0.752742</td>\n",
       "      <td>8.0</td>\n",
       "    </tr>\n",
       "    <tr>\n",
       "      <th>8</th>\n",
       "      <td>Servers</td>\n",
       "      <td>Internal</td>\n",
       "      <td>Daily</td>\n",
       "      <td>0.704533</td>\n",
       "      <td>9.0</td>\n",
       "    </tr>\n",
       "    <tr>\n",
       "      <th>9</th>\n",
       "      <td>Workstation</td>\n",
       "      <td>NaN</td>\n",
       "      <td>Weekly</td>\n",
       "      <td>0.525339</td>\n",
       "      <td>10.0</td>\n",
       "    </tr>\n",
       "    <tr>\n",
       "      <th>10</th>\n",
       "      <td>Workstation</td>\n",
       "      <td>NaN</td>\n",
       "      <td>Fortnightly</td>\n",
       "      <td>0.525012</td>\n",
       "      <td>11.0</td>\n",
       "    </tr>\n",
       "    <tr>\n",
       "      <th>11</th>\n",
       "      <td>Workstation</td>\n",
       "      <td>NaN</td>\n",
       "      <td>Daily</td>\n",
       "      <td>0.501097</td>\n",
       "      <td>12.0</td>\n",
       "    </tr>\n",
       "  </tbody>\n",
       "</table>\n",
       "</div>"
      ],
      "text/plain": [
       "      host_type accessibility          CEI  priority_score  priority_rank\n",
       "0       Servers      External       EOL OS        4.458506            1.0\n",
       "1       Servers      Internal       EOL OS        2.104977            2.0\n",
       "2   Workstation           NaN       EOL OS        0.951198            3.0\n",
       "3       Servers      External       Weekly        0.928923            4.0\n",
       "4       Servers      External  Fortnightly        0.927900            5.0\n",
       "5       Servers      External        Daily        0.855720            6.0\n",
       "6       Servers      Internal       Weekly        0.753415            7.0\n",
       "7       Servers      Internal  Fortnightly        0.752742            8.0\n",
       "8       Servers      Internal        Daily        0.704533            9.0\n",
       "9   Workstation           NaN       Weekly        0.525339           10.0\n",
       "10  Workstation           NaN  Fortnightly        0.525012           11.0\n",
       "11  Workstation           NaN        Daily        0.501097           12.0"
      ]
     },
     "execution_count": 1247,
     "metadata": {},
     "output_type": "execute_result"
    }
   ],
   "source": [
    "priority_df"
   ]
  },
  {
   "cell_type": "code",
   "execution_count": 1248,
   "id": "1c6a69c0",
   "metadata": {},
   "outputs": [],
   "source": [
    "priority_df.columns = [\"host_type\",\"accessibility\",\"cei_code\",\"priority_score\",\"priority_rank\"]"
   ]
  },
  {
   "cell_type": "code",
   "execution_count": 1249,
   "id": "d1ff3b0c",
   "metadata": {},
   "outputs": [],
   "source": [
    "#priority_df.to_csv(\"priority.csv\",index=False)"
   ]
  },
  {
   "cell_type": "markdown",
   "id": "0a645275",
   "metadata": {},
   "source": [
    "# CEI Metric Data"
   ]
  },
  {
   "cell_type": "code",
   "execution_count": 1250,
   "id": "2ff8921c",
   "metadata": {},
   "outputs": [],
   "source": [
    "# cei_data = cei_metric.fillna(\"\").groupby([\"host_type\",\"accessibility\",\"cei_code\"])[\"cei_status\"].value_counts(normalize=True)\n",
    "# cei_data = cei_data.to_frame()\n",
    "# cei_data.columns = [\"failure_count\"]\n",
    "# cei_data = cei_data.reset_index()"
   ]
  },
  {
   "cell_type": "code",
   "execution_count": 1251,
   "id": "d7e776fa",
   "metadata": {},
   "outputs": [],
   "source": [
    "# cei_data = cei_data[cei_data[\"cei_status\"] == \"Failed\"]"
   ]
  },
  {
   "cell_type": "code",
   "execution_count": 1252,
   "id": "a330cb64",
   "metadata": {},
   "outputs": [
    {
     "data": {
      "text/plain": [
       "{'accessibility', 'cei_code', 'host_type'}"
      ]
     },
     "execution_count": 1252,
     "metadata": {},
     "output_type": "execute_result"
    }
   ],
   "source": [
    "# set(cei_data.columns).intersection(priority_df.columns)"
   ]
  },
  {
   "cell_type": "code",
   "execution_count": 1253,
   "id": "802189f0",
   "metadata": {},
   "outputs": [
    {
     "data": {
      "text/html": [
       "<div>\n",
       "<style scoped>\n",
       "    .dataframe tbody tr th:only-of-type {\n",
       "        vertical-align: middle;\n",
       "    }\n",
       "\n",
       "    .dataframe tbody tr th {\n",
       "        vertical-align: top;\n",
       "    }\n",
       "\n",
       "    .dataframe thead th {\n",
       "        text-align: right;\n",
       "    }\n",
       "</style>\n",
       "<table border=\"1\" class=\"dataframe\">\n",
       "  <thead>\n",
       "    <tr style=\"text-align: right;\">\n",
       "      <th></th>\n",
       "      <th>host_type</th>\n",
       "      <th>accessibility</th>\n",
       "      <th>cei_code</th>\n",
       "      <th>cei_status</th>\n",
       "      <th>failure_count</th>\n",
       "    </tr>\n",
       "  </thead>\n",
       "  <tbody>\n",
       "    <tr>\n",
       "      <th>1</th>\n",
       "      <td>Server</td>\n",
       "      <td>External</td>\n",
       "      <td>Daily</td>\n",
       "      <td>Failed</td>\n",
       "      <td>0.250000</td>\n",
       "    </tr>\n",
       "    <tr>\n",
       "      <th>4</th>\n",
       "      <td>Server</td>\n",
       "      <td>External</td>\n",
       "      <td>Weekly</td>\n",
       "      <td>Failed</td>\n",
       "      <td>0.087500</td>\n",
       "    </tr>\n",
       "    <tr>\n",
       "      <th>7</th>\n",
       "      <td>Server</td>\n",
       "      <td>Internal</td>\n",
       "      <td>Weekly</td>\n",
       "      <td>Failed</td>\n",
       "      <td>0.250000</td>\n",
       "    </tr>\n",
       "    <tr>\n",
       "      <th>9</th>\n",
       "      <td>Workstation</td>\n",
       "      <td></td>\n",
       "      <td>EOL OS</td>\n",
       "      <td>Failed</td>\n",
       "      <td>0.321429</td>\n",
       "    </tr>\n",
       "    <tr>\n",
       "      <th>11</th>\n",
       "      <td>Workstation</td>\n",
       "      <td></td>\n",
       "      <td>Weekly</td>\n",
       "      <td>Failed</td>\n",
       "      <td>0.178571</td>\n",
       "    </tr>\n",
       "  </tbody>\n",
       "</table>\n",
       "</div>"
      ],
      "text/plain": [
       "      host_type accessibility cei_code cei_status  failure_count\n",
       "1        Server      External    Daily     Failed       0.250000\n",
       "4        Server      External   Weekly     Failed       0.087500\n",
       "7        Server      Internal   Weekly     Failed       0.250000\n",
       "9   Workstation                 EOL OS     Failed       0.321429\n",
       "11  Workstation                 Weekly     Failed       0.178571"
      ]
     },
     "execution_count": 1253,
     "metadata": {},
     "output_type": "execute_result"
    }
   ],
   "source": [
    "# cei_data"
   ]
  },
  {
   "cell_type": "code",
   "execution_count": 1254,
   "id": "33ac7767",
   "metadata": {},
   "outputs": [
    {
     "data": {
      "text/html": [
       "<div>\n",
       "<style scoped>\n",
       "    .dataframe tbody tr th:only-of-type {\n",
       "        vertical-align: middle;\n",
       "    }\n",
       "\n",
       "    .dataframe tbody tr th {\n",
       "        vertical-align: top;\n",
       "    }\n",
       "\n",
       "    .dataframe thead th {\n",
       "        text-align: right;\n",
       "    }\n",
       "</style>\n",
       "<table border=\"1\" class=\"dataframe\">\n",
       "  <thead>\n",
       "    <tr style=\"text-align: right;\">\n",
       "      <th></th>\n",
       "      <th>host_type</th>\n",
       "      <th>accessibility</th>\n",
       "      <th>cei_code</th>\n",
       "      <th>priority_score</th>\n",
       "      <th>priority_rank</th>\n",
       "    </tr>\n",
       "  </thead>\n",
       "  <tbody>\n",
       "    <tr>\n",
       "      <th>0</th>\n",
       "      <td>Servers</td>\n",
       "      <td>External</td>\n",
       "      <td>EOL OS</td>\n",
       "      <td>4.458506</td>\n",
       "      <td>1.0</td>\n",
       "    </tr>\n",
       "    <tr>\n",
       "      <th>1</th>\n",
       "      <td>Servers</td>\n",
       "      <td>Internal</td>\n",
       "      <td>EOL OS</td>\n",
       "      <td>2.104977</td>\n",
       "      <td>2.0</td>\n",
       "    </tr>\n",
       "    <tr>\n",
       "      <th>2</th>\n",
       "      <td>Workstation</td>\n",
       "      <td>NaN</td>\n",
       "      <td>EOL OS</td>\n",
       "      <td>0.951198</td>\n",
       "      <td>3.0</td>\n",
       "    </tr>\n",
       "    <tr>\n",
       "      <th>3</th>\n",
       "      <td>Servers</td>\n",
       "      <td>External</td>\n",
       "      <td>Weekly</td>\n",
       "      <td>0.928923</td>\n",
       "      <td>4.0</td>\n",
       "    </tr>\n",
       "    <tr>\n",
       "      <th>4</th>\n",
       "      <td>Servers</td>\n",
       "      <td>External</td>\n",
       "      <td>Fortnightly</td>\n",
       "      <td>0.927900</td>\n",
       "      <td>5.0</td>\n",
       "    </tr>\n",
       "    <tr>\n",
       "      <th>5</th>\n",
       "      <td>Servers</td>\n",
       "      <td>External</td>\n",
       "      <td>Daily</td>\n",
       "      <td>0.855720</td>\n",
       "      <td>6.0</td>\n",
       "    </tr>\n",
       "    <tr>\n",
       "      <th>6</th>\n",
       "      <td>Servers</td>\n",
       "      <td>Internal</td>\n",
       "      <td>Weekly</td>\n",
       "      <td>0.753415</td>\n",
       "      <td>7.0</td>\n",
       "    </tr>\n",
       "    <tr>\n",
       "      <th>7</th>\n",
       "      <td>Servers</td>\n",
       "      <td>Internal</td>\n",
       "      <td>Fortnightly</td>\n",
       "      <td>0.752742</td>\n",
       "      <td>8.0</td>\n",
       "    </tr>\n",
       "    <tr>\n",
       "      <th>8</th>\n",
       "      <td>Servers</td>\n",
       "      <td>Internal</td>\n",
       "      <td>Daily</td>\n",
       "      <td>0.704533</td>\n",
       "      <td>9.0</td>\n",
       "    </tr>\n",
       "    <tr>\n",
       "      <th>9</th>\n",
       "      <td>Workstation</td>\n",
       "      <td>NaN</td>\n",
       "      <td>Weekly</td>\n",
       "      <td>0.525339</td>\n",
       "      <td>10.0</td>\n",
       "    </tr>\n",
       "    <tr>\n",
       "      <th>10</th>\n",
       "      <td>Workstation</td>\n",
       "      <td>NaN</td>\n",
       "      <td>Fortnightly</td>\n",
       "      <td>0.525012</td>\n",
       "      <td>11.0</td>\n",
       "    </tr>\n",
       "    <tr>\n",
       "      <th>11</th>\n",
       "      <td>Workstation</td>\n",
       "      <td>NaN</td>\n",
       "      <td>Daily</td>\n",
       "      <td>0.501097</td>\n",
       "      <td>12.0</td>\n",
       "    </tr>\n",
       "  </tbody>\n",
       "</table>\n",
       "</div>"
      ],
      "text/plain": [
       "      host_type accessibility     cei_code  priority_score  priority_rank\n",
       "0       Servers      External       EOL OS        4.458506            1.0\n",
       "1       Servers      Internal       EOL OS        2.104977            2.0\n",
       "2   Workstation           NaN       EOL OS        0.951198            3.0\n",
       "3       Servers      External       Weekly        0.928923            4.0\n",
       "4       Servers      External  Fortnightly        0.927900            5.0\n",
       "5       Servers      External        Daily        0.855720            6.0\n",
       "6       Servers      Internal       Weekly        0.753415            7.0\n",
       "7       Servers      Internal  Fortnightly        0.752742            8.0\n",
       "8       Servers      Internal        Daily        0.704533            9.0\n",
       "9   Workstation           NaN       Weekly        0.525339           10.0\n",
       "10  Workstation           NaN  Fortnightly        0.525012           11.0\n",
       "11  Workstation           NaN        Daily        0.501097           12.0"
      ]
     },
     "execution_count": 1254,
     "metadata": {},
     "output_type": "execute_result"
    }
   ],
   "source": [
    "#priority_df"
   ]
  },
  {
   "cell_type": "code",
   "execution_count": 1255,
   "id": "feecfe01",
   "metadata": {},
   "outputs": [
    {
     "name": "stderr",
     "output_type": "stream",
     "text": [
      "/tmp/ipykernel_15235/3167116951.py:1: SettingWithCopyWarning: \n",
      "A value is trying to be set on a copy of a slice from a DataFrame.\n",
      "Try using .loc[row_indexer,col_indexer] = value instead\n",
      "\n",
      "See the caveats in the documentation: https://pandas.pydata.org/pandas-docs/stable/user_guide/indexing.html#returning-a-view-versus-a-copy\n",
      "  priority_df[\"host_type\"] = priority_df[\"host_type\"].str.replace(\"Servers\",\"Server\")\n"
     ]
    }
   ],
   "source": [
    "#priority_df[\"host_type\"] = priority_df[\"host_type\"].str.replace(\"Servers\",\"Server\")"
   ]
  },
  {
   "cell_type": "code",
   "execution_count": 1256,
   "id": "c16d7b01",
   "metadata": {},
   "outputs": [],
   "source": [
    "#cei_data = cei_data.fillna(\"\").merge(priority_df.fillna(\"\"),on=['accessibility', 'cei_code', 'host_type'],how=\"left\")"
   ]
  },
  {
   "cell_type": "code",
   "execution_count": 1257,
   "id": "dc6ac450",
   "metadata": {},
   "outputs": [],
   "source": [
    "#cei_data[\"effective_score\"] = cei_data[\"failure_count\"] * cei_data[\"priority_score\"]"
   ]
  },
  {
   "cell_type": "code",
   "execution_count": 1258,
   "id": "7c02d5e3",
   "metadata": {},
   "outputs": [],
   "source": [
    "#cei_data[\"effective_rank\"] = cei_data[\"effective_score\"].rank(ascending=False)"
   ]
  },
  {
   "cell_type": "code",
   "execution_count": 1259,
   "id": "d7c0963e",
   "metadata": {},
   "outputs": [],
   "source": [
    "#cei_data = cei_data.sort_values(\"effective_rank\")"
   ]
  },
  {
   "cell_type": "code",
   "execution_count": 1260,
   "id": "15019e23",
   "metadata": {},
   "outputs": [],
   "source": [
    "#cei_data.to_csv(\"effective_rank.csv\",index=False)"
   ]
  },
  {
   "cell_type": "code",
   "execution_count": 1261,
   "id": "48d8f57e",
   "metadata": {},
   "outputs": [],
   "source": [
    "#output  = cei_data[[\"host_type\",\"accessibility\",\"cei_code\",\"failure_count\",\"priority_rank\",\"effective_rank\"]]"
   ]
  },
  {
   "cell_type": "code",
   "execution_count": 1262,
   "id": "87e92724",
   "metadata": {},
   "outputs": [
    {
     "data": {
      "text/html": [
       "<div>\n",
       "<style scoped>\n",
       "    .dataframe tbody tr th:only-of-type {\n",
       "        vertical-align: middle;\n",
       "    }\n",
       "\n",
       "    .dataframe tbody tr th {\n",
       "        vertical-align: top;\n",
       "    }\n",
       "\n",
       "    .dataframe thead th {\n",
       "        text-align: right;\n",
       "    }\n",
       "</style>\n",
       "<table border=\"1\" class=\"dataframe\">\n",
       "  <thead>\n",
       "    <tr style=\"text-align: right;\">\n",
       "      <th></th>\n",
       "      <th>host_type</th>\n",
       "      <th>accessibility</th>\n",
       "      <th>cei_code</th>\n",
       "      <th>cei_status</th>\n",
       "      <th>failure_count</th>\n",
       "      <th>priority_score</th>\n",
       "      <th>priority_rank</th>\n",
       "      <th>effective_score</th>\n",
       "      <th>effective_rank</th>\n",
       "    </tr>\n",
       "  </thead>\n",
       "  <tbody>\n",
       "    <tr>\n",
       "      <th>3</th>\n",
       "      <td>Workstation</td>\n",
       "      <td></td>\n",
       "      <td>EOL OS</td>\n",
       "      <td>Failed</td>\n",
       "      <td>0.321429</td>\n",
       "      <td>0.951198</td>\n",
       "      <td>3.0</td>\n",
       "      <td>0.305742</td>\n",
       "      <td>1.0</td>\n",
       "    </tr>\n",
       "    <tr>\n",
       "      <th>0</th>\n",
       "      <td>Server</td>\n",
       "      <td>External</td>\n",
       "      <td>Daily</td>\n",
       "      <td>Failed</td>\n",
       "      <td>0.250000</td>\n",
       "      <td>0.855720</td>\n",
       "      <td>6.0</td>\n",
       "      <td>0.213930</td>\n",
       "      <td>2.0</td>\n",
       "    </tr>\n",
       "    <tr>\n",
       "      <th>2</th>\n",
       "      <td>Server</td>\n",
       "      <td>Internal</td>\n",
       "      <td>Weekly</td>\n",
       "      <td>Failed</td>\n",
       "      <td>0.250000</td>\n",
       "      <td>0.753415</td>\n",
       "      <td>7.0</td>\n",
       "      <td>0.188354</td>\n",
       "      <td>3.0</td>\n",
       "    </tr>\n",
       "    <tr>\n",
       "      <th>4</th>\n",
       "      <td>Workstation</td>\n",
       "      <td></td>\n",
       "      <td>Weekly</td>\n",
       "      <td>Failed</td>\n",
       "      <td>0.178571</td>\n",
       "      <td>0.525339</td>\n",
       "      <td>10.0</td>\n",
       "      <td>0.093811</td>\n",
       "      <td>4.0</td>\n",
       "    </tr>\n",
       "    <tr>\n",
       "      <th>1</th>\n",
       "      <td>Server</td>\n",
       "      <td>External</td>\n",
       "      <td>Weekly</td>\n",
       "      <td>Failed</td>\n",
       "      <td>0.087500</td>\n",
       "      <td>0.928923</td>\n",
       "      <td>4.0</td>\n",
       "      <td>0.081281</td>\n",
       "      <td>5.0</td>\n",
       "    </tr>\n",
       "  </tbody>\n",
       "</table>\n",
       "</div>"
      ],
      "text/plain": [
       "     host_type accessibility cei_code cei_status  failure_count  \\\n",
       "3  Workstation                 EOL OS     Failed       0.321429   \n",
       "0       Server      External    Daily     Failed       0.250000   \n",
       "2       Server      Internal   Weekly     Failed       0.250000   \n",
       "4  Workstation                 Weekly     Failed       0.178571   \n",
       "1       Server      External   Weekly     Failed       0.087500   \n",
       "\n",
       "   priority_score  priority_rank  effective_score  effective_rank  \n",
       "3        0.951198            3.0         0.305742             1.0  \n",
       "0        0.855720            6.0         0.213930             2.0  \n",
       "2        0.753415            7.0         0.188354             3.0  \n",
       "4        0.525339           10.0         0.093811             4.0  \n",
       "1        0.928923            4.0         0.081281             5.0  "
      ]
     },
     "execution_count": 1262,
     "metadata": {},
     "output_type": "execute_result"
    }
   ],
   "source": [
    "#cei_data"
   ]
  },
  {
   "cell_type": "code",
   "execution_count": 1183,
   "id": "5907365f",
   "metadata": {},
   "outputs": [
    {
     "data": {
      "text/html": [
       "<div>\n",
       "<style scoped>\n",
       "    .dataframe tbody tr th:only-of-type {\n",
       "        vertical-align: middle;\n",
       "    }\n",
       "\n",
       "    .dataframe tbody tr th {\n",
       "        vertical-align: top;\n",
       "    }\n",
       "\n",
       "    .dataframe thead th {\n",
       "        text-align: right;\n",
       "    }\n",
       "</style>\n",
       "<table border=\"1\" class=\"dataframe\">\n",
       "  <thead>\n",
       "    <tr style=\"text-align: right;\">\n",
       "      <th></th>\n",
       "      <th>Fortnightly</th>\n",
       "      <th>Weekly</th>\n",
       "      <th>Daily</th>\n",
       "      <th>EOL OS</th>\n",
       "    </tr>\n",
       "    <tr>\n",
       "      <th>asset_class</th>\n",
       "      <th></th>\n",
       "      <th></th>\n",
       "      <th></th>\n",
       "      <th></th>\n",
       "    </tr>\n",
       "  </thead>\n",
       "  <tbody>\n",
       "    <tr>\n",
       "      <th>Servers_External</th>\n",
       "      <td>16</td>\n",
       "      <td>12</td>\n",
       "      <td>8</td>\n",
       "      <td>20</td>\n",
       "    </tr>\n",
       "    <tr>\n",
       "      <th>Servers_Internal</th>\n",
       "      <td>12</td>\n",
       "      <td>9</td>\n",
       "      <td>6</td>\n",
       "      <td>15</td>\n",
       "    </tr>\n",
       "    <tr>\n",
       "      <th>Workstation</th>\n",
       "      <td>12</td>\n",
       "      <td>9</td>\n",
       "      <td>6</td>\n",
       "      <td>15</td>\n",
       "    </tr>\n",
       "  </tbody>\n",
       "</table>\n",
       "</div>"
      ],
      "text/plain": [
       "                  Fortnightly  Weekly  Daily  EOL OS\n",
       "asset_class                                         \n",
       "Servers_External           16      12      8      20\n",
       "Servers_Internal           12       9      6      15\n",
       "Workstation                12       9      6      15"
      ]
     },
     "execution_count": 1183,
     "metadata": {},
     "output_type": "execute_result"
    }
   ],
   "source": [
    "#risk"
   ]
  },
  {
   "cell_type": "code",
   "execution_count": 1184,
   "id": "9ac02cea",
   "metadata": {},
   "outputs": [],
   "source": [
    "#priority_df.to_csv(\"priority_score.csv\",index=False)"
   ]
  },
  {
   "cell_type": "code",
   "execution_count": null,
   "id": "91d069ba",
   "metadata": {},
   "outputs": [],
   "source": []
  },
  {
   "cell_type": "code",
   "execution_count": null,
   "id": "febc75ab",
   "metadata": {},
   "outputs": [],
   "source": []
  }
 ],
 "metadata": {
  "kernelspec": {
   "display_name": "Python 3",
   "language": "python",
   "name": "python3"
  },
  "language_info": {
   "codemirror_mode": {
    "name": "ipython",
    "version": 3
   },
   "file_extension": ".py",
   "mimetype": "text/x-python",
   "name": "python",
   "nbconvert_exporter": "python",
   "pygments_lexer": "ipython3",
   "version": "3.8.8"
  },
  "vscode": {
   "interpreter": {
    "hash": "916dbcbb3f70747c44a77c7bcd40155683ae19c65e1c03b4aa3499c5328201f1"
   }
  }
 },
 "nbformat": 4,
 "nbformat_minor": 5
}
